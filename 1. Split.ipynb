{
 "cells": [
  {
   "cell_type": "code",
   "execution_count": 1,
   "metadata": {},
   "outputs": [
    {
     "name": "stdout",
     "output_type": "stream",
     "text": [
      "Selesai memisahkan gambar dari setiap kelas ke direktori Train, Val, dan Uji.\n"
     ]
    }
   ],
   "source": [
    "import os\n",
    "import random\n",
    "import shutil\n",
    "\n",
    "# Path ke direktori dataset\n",
    "#base_dir = \"C:\\Users\\asusm\\Dropbox\\PC\\Downloads\\TA\\dataset\"\n",
    "#classes = ['Hidung', 'Hidung adenoid', 'Hidung hiperemis', 'Hidung konka', 'Hidung normal', 'Hidung polip', 'Hidung saluran tuba', 'Hidung sekret' ,'Hidung tumor cavum nasi' ,'Hipertrofi adenoid' ,'Nasofarings normal', 'Polip nasi', 'Rinitis akut', 'Rinitis alergi', 'Rinitis kronis', 'Septum Deviasi', 'Sinusitis akut', 'Sinusitis kronis' ]\n",
    "#train_dir = \"C:\\Users\\asusm\\Dropbox\\PC\\Downloads\\TA\\Split Dataset\\train\"\n",
    "#val_dir = \"C:\\Users\\asusm\\Dropbox\\PC\\Downloads\\TA\\Split Dataset\\validasi\"\n",
    "#test_dir = \"C:\\Users\\asusm\\Dropbox\\PC\\Downloads\\TA\\Split Dataset\\uji\"\n",
    "\n",
    "# Path ke direktori dataset\n",
    "base_dir = r\"C:\\Users\\asusm\\Dropbox\\PC\\Downloads\\TA\\Augmented\"\n",
    "classes = ['Normal', 'Adenoid Hypertrophy', 'Normal Nasofarings', 'Polyps', 'Acute & Chronic Rhinitis', 'Allergic Rhinitis', 'Septum Deviation', 'Acute & Chronic Sinusitis', 'Fallopian Tubes', 'Snot', 'Cavum Nasi Tumor', 'Concha']\n",
    "train_dir = r\"C:\\Users\\asusm\\Dropbox\\PC\\Downloads\\TA\\Split\\train\"\n",
    "val_dir = r\"C:\\Users\\asusm\\Dropbox\\PC\\Downloads\\TA\\Split\\validasi\"\n",
    "test_dir = r\"C:\\Users\\asusm\\Dropbox\\PC\\Downloads\\TA\\Split\\uji\"\n",
    "\n",
    "# Buat direktori untuk train, val, dan test jika belum ada\n",
    "for dir_path in [train_dir, val_dir, test_dir]:\n",
    "    if not os.path.exists(dir_path):\n",
    "        os.makedirs(dir_path)\n",
    "\n",
    "for class_name in classes:\n",
    "    class_dir = os.path.join(base_dir, class_name)\n",
    "    train_class_dir = os.path.join(train_dir, class_name)\n",
    "    val_class_dir = os.path.join(val_dir, class_name)\n",
    "    test_class_dir = os.path.join(test_dir, class_name)\n",
    "    \n",
    "    # Buat direktori untuk setiap kelas di train, val, dan test jika belum ada\n",
    "    for dir_path in [train_class_dir, val_class_dir, test_class_dir]:\n",
    "        if not os.path.exists(dir_path):\n",
    "            os.makedirs(dir_path)\n",
    "    \n",
    "    if not os.path.exists(class_dir):\n",
    "        print(f\"Directory not found: {class_dir}\")\n",
    "        continue\n",
    "\n",
    "    file_list = os.listdir(class_dir)\n",
    "    \n",
    "    # Hitung jumlah gambar untuk setiap subset\n",
    "    num_files = len(file_list)\n",
    "    num_train = int(num_files * 0.7)\n",
    "    num_val = int(num_files * 0.2)\n",
    "    num_test = num_files - num_train - num_val\n",
    "    \n",
    "    # Acak urutan file\n",
    "    random.shuffle(file_list)\n",
    "    \n",
    "    # Pisahkan file ke dalam train, val, dan test\n",
    "    train_files = file_list[:num_train]\n",
    "    val_files = file_list[num_train:num_train+num_val]\n",
    "    test_files = file_list[num_train+num_val:]\n",
    "    \n",
    "    # Pindahkan file ke direktori masing-masing\n",
    "    for file_name in train_files:\n",
    "        shutil.copy(os.path.join(class_dir, file_name), os.path.join(train_class_dir, file_name))\n",
    "        \n",
    "    for file_name in val_files:\n",
    "        shutil.copy(os.path.join(class_dir, file_name), os.path.join(val_class_dir, file_name))\n",
    "        \n",
    "    for file_name in test_files:\n",
    "        shutil.copy(os.path.join(class_dir, file_name), os.path.join(test_class_dir, file_name))\n",
    "\n",
    "print(\"Selesai memisahkan gambar dari setiap kelas ke direktori Train, Val, dan Uji.\")\n"
   ]
  }
 ],
 "metadata": {
  "kernelspec": {
   "display_name": "Python 3",
   "language": "python",
   "name": "python3"
  },
  "language_info": {
   "codemirror_mode": {
    "name": "ipython",
    "version": 3
   },
   "file_extension": ".py",
   "mimetype": "text/x-python",
   "name": "python",
   "nbconvert_exporter": "python",
   "pygments_lexer": "ipython3",
   "version": "3.11.2"
  }
 },
 "nbformat": 4,
 "nbformat_minor": 2
}
